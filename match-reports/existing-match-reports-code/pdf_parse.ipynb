{
 "cells": [
  {
   "cell_type": "code",
   "execution_count": null,
   "metadata": {},
   "outputs": [],
   "source": [
    "import pdfplumber\n",
    "import numpy as np\n",
    "import matplotlib.pyplot as plt\n",
    "from shapely.geometry import Point, Polygon\n",
    "import math"
   ]
  },
  {
   "cell_type": "code",
   "execution_count": null,
   "metadata": {},
   "outputs": [],
   "source": [
    "def extract_pdf_paths(pdf_path):\n",
    "    \"\"\"\n",
    "    Extract path objects from a PDF file.\n",
    "    \n",
    "    Args:\n",
    "        pdf_path (str): Path to the PDF file\n",
    "    \n",
    "    Returns:\n",
    "        list: A list of path objects found in the PDF\n",
    "    \"\"\"\n",
    "    # Store all extracted paths\n",
    "    all_paths = []\n",
    "    \n",
    "    # Open the PDF file\n",
    "    with pdfplumber.open(pdf_path) as pdf:\n",
    "        # Iterate through each page\n",
    "        for page in pdf.pages:\n",
    "            # Extract paths from the page\n",
    "            page_paths = page.extract_paths()\n",
    "            \n",
    "            # Add paths from this page to the total list\n",
    "            if page_paths:\n",
    "                all_paths.extend(page_paths)\n",
    "    \n",
    "    return all_paths"
   ]
  },
  {
   "cell_type": "code",
   "execution_count": null,
   "metadata": {},
   "outputs": [],
   "source": [
    "# Replace with your PDF path\n",
    "teamname = 'Northwestern Wildcats'\n",
    "#by_on = 'by_team'\n",
    "by_on = 'on_team'\n",
    "game = '01-10-2024_page_12'\n",
    "pdf_path = f'../../shot_data/{teamname}/{by_on}/{game}.pdf'\n",
    "\n",
    "# Replace with the path to your PDF file\n",
    "pdf_file_path = f'../../shot_data/{teamname}/{by_on}/{game}.pdf'\n",
    "\n",
    "# Extract paths\n",
    "paths = extract_pdf_paths(pdf_file_path)\n",
    "\n",
    "# Print out the paths\n",
    "print(f\"Total paths found: {len(paths)}\")\n",
    "\n",
    "# Optionally, print details of each path\n",
    "for i, path in enumerate(paths, 1):\n",
    "    print(f\"\\nPath {i}:\")\n",
    "    print(f\"  Stroke Color: {path.get('stroke_color', 'N/A')}\")\n",
    "    print(f\"  Fill Color: {path.get('fill_color', 'N/A')}\")\n",
    "    print(f\"  Width: {path.get('width', 'N/A')}\")\n",
    "    print(f\"  Path Data: {path.get('path', 'N/A')}\")"
   ]
  }
 ],
 "metadata": {
  "kernelspec": {
   "display_name": "Python 3",
   "language": "python",
   "name": "python3"
  },
  "language_info": {
   "codemirror_mode": {
    "name": "ipython",
    "version": 3
   },
   "file_extension": ".py",
   "mimetype": "text/x-python",
   "name": "python",
   "nbconvert_exporter": "python",
   "pygments_lexer": "ipython3",
   "version": "3.10.11"
  }
 },
 "nbformat": 4,
 "nbformat_minor": 2
}
